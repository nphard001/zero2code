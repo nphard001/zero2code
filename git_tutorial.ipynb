{
 "cells": [
  {
   "cell_type": "markdown",
   "metadata": {},
   "source": [
    "# Git 入門教學\n",
    "\n",
    "這份教學會帶你了解 Git 的基本概念和操作。\n",
    "\n",
    "## 什麼是 Git？\n",
    "\n",
    "Git 是一個版本控制系統，可以：\n",
    "- 記錄檔案的修改歷史\n",
    "- 讓你回到之前的版本\n",
    "- 方便團隊協作\n",
    "\n",
    "想像它就像是遊戲的存檔系統，你可以隨時存檔，也可以讀取之前的存檔。"
   ]
  },
  {
   "cell_type": "markdown",
   "metadata": {},
   "source": [
    "## 步驟 1：初始化 Git 儲存庫\n",
    "\n",
    "首先，我們需要告訴 Git「這個資料夾要開始使用版本控制」。"
   ]
  },
  {
   "cell_type": "code",
   "execution_count": null,
   "metadata": {},
   "outputs": [],
   "source": [
    "# 在終端機執行這個命令\n",
    "# git init\n",
    "\n",
    "# 這會在資料夾內建立一個隱藏的 .git 資料夾\n",
    "# 所有的版本記錄都會存在裡面"
   ]
  },
  {
   "cell_type": "markdown",
   "metadata": {},
   "source": [
    "執行結果：\n",
    "```\n",
    "Initialized empty Git repository in /Users/qtwu/Desktop/root/active/vibe51/how2git/.git/\n",
    "```\n",
    "\n",
    "✅ 成功！現在這個資料夾已經可以使用 Git 了。"
   ]
  },
  {
   "cell_type": "markdown",
   "metadata": {},
   "source": [
    "## 步驟 2：建立第一個檔案\n",
    "\n",
    "我們建立了一個叫 `hello.txt` 的檔案，內容是：\n",
    "\n",
    "```\n",
    "哈囉！這是我的第一個 Git 專案。\n",
    "今天開始學習 Git！\n",
    "```"
   ]
  },
  {
   "cell_type": "markdown",
   "metadata": {},
   "source": [
    "## 步驟 3：查看 Git 狀態\n",
    "\n",
    "建立檔案後，我們可以問 Git：「現在的狀況如何？」"
   ]
  },
  {
   "cell_type": "code",
   "execution_count": null,
   "metadata": {},
   "outputs": [],
   "source": [
    "# 在終端機執行這個命令\n",
    "# git status"
   ]
  },
  {
   "cell_type": "markdown",
   "metadata": {},
   "source": [
    "執行結果：\n",
    "```\n",
    "On branch main\n",
    "\n",
    "No commits yet\n",
    "\n",
    "Untracked files:\n",
    "  (use \"git add <file>...\" to include in what will be committed)\n",
    "\thello.txt\n",
    "\n",
    "nothing added to commit but untracked files present (use \"git add\" to track)\n",
    "```\n",
    "\n",
    "### 這告訴我們什麼？\n",
    "\n",
    "1. **On branch main** - 我們在主要分支上\n",
    "2. **No commits yet** - 還沒有任何存檔記錄\n",
    "3. **Untracked files: hello.txt** - Git 發現了新檔案，但還沒開始追蹤它\n",
    "\n",
    "🔍 Git 看到了 `hello.txt`，但它在問：「要不要把這個檔案納入版本控制？」"
   ]
  },
  {
   "cell_type": "markdown",
   "metadata": {},
   "source": [
    "## 步驟 4：將檔案加入暫存區\n",
    "\n",
    "在 Git 中，存檔分成兩步：\n",
    "1. 先把要存的東西放到「暫存區」（像是購物車）\n",
    "2. 再一次確認存檔（結帳）"
   ]
  },
  {
   "cell_type": "code",
   "execution_count": null,
   "metadata": {},
   "outputs": [],
   "source": [
    "# 把 hello.txt 加入暫存區\n",
    "# git add hello.txt"
   ]
  },
  {
   "cell_type": "markdown",
   "metadata": {},
   "source": [
    "再次查看狀態：\n",
    "```\n",
    "On branch main\n",
    "\n",
    "No commits yet\n",
    "\n",
    "Changes to be committed:\n",
    "  (use \"git rm --cached <file>...\" to unstage)\n",
    "\tnew file:   hello.txt\n",
    "```\n",
    "\n",
    "✅ 看到 **Changes to be committed** 了嗎？檔案已經在暫存區，準備要存檔了！"
   ]
  },
  {
   "cell_type": "markdown",
   "metadata": {},
   "source": [
    "## 步驟 5：提交（存檔）\n",
    "\n",
    "現在正式存檔，並留下一個說明訊息："
   ]
  },
  {
   "cell_type": "code",
   "execution_count": null,
   "metadata": {},
   "outputs": [],
   "source": [
    "# 提交並留下訊息\n",
    "# git commit -m \"我的第一個提交！\""
   ]
  },
  {
   "cell_type": "markdown",
   "metadata": {},
   "source": [
    "執行結果：\n",
    "```\n",
    "[main (root-commit) ecf862a] 我的第一個提交！\n",
    " 1 file changed, 2 insertions(+)\n",
    " create mode 100644 hello.txt\n",
    "```\n",
    "\n",
    "### 這告訴我們什麼？\n",
    "\n",
    "1. **ecf862a** - 這是這次存檔的唯一編號（像是存檔的 ID）\n",
    "2. **1 file changed** - 有 1 個檔案被修改\n",
    "3. **2 insertions(+)** - 新增了 2 行內容\n",
    "\n",
    "🎉 恭喜！你完成了第一次 Git 存檔！"
   ]
  },
  {
   "cell_type": "markdown",
   "metadata": {},
   "source": [
    "## 步驟 6：查看歷史記錄"
   ]
  },
  {
   "cell_type": "code",
   "execution_count": null,
   "metadata": {},
   "outputs": [],
   "source": [
    "# 查看提交歷史\n",
    "# git log --oneline"
   ]
  },
  {
   "cell_type": "markdown",
   "metadata": {},
   "source": [
    "執行結果：\n",
    "```\n",
    "ecf862a 我的第一個提交！\n",
    "```\n",
    "\n",
    "這顯示了我們的存檔記錄。隨著你繼續使用 Git，這個列表會越來越長。"
   ]
  },
  {
   "cell_type": "markdown",
   "metadata": {},
   "source": [
    "## 總結：Git 基本命令\n",
    "\n",
    "| 命令 | 說明 | 類比 |\n",
    "|------|------|------|\n",
    "| `git init` | 初始化 Git 儲存庫 | 開啟一個新的存檔系統 |\n",
    "| `git status` | 查看目前狀態 | 查看有哪些檔案改變了 |\n",
    "| `git add <檔案>` | 將檔案加入暫存區 | 把東西放進購物車 |\n",
    "| `git commit -m \"訊息\"` | 提交存檔 | 結帳並留下購物清單 |\n",
    "| `git log` | 查看歷史記錄 | 查看所有的存檔點 |"
   ]
  },
  {
   "cell_type": "markdown",
   "metadata": {},
   "source": [
    "## 下一步\n",
    "\n",
    "你已經學會了 Git 的基礎！接下來可以學習：\n",
    "\n",
    "1. **修改檔案並提交新版本**\n",
    "2. **查看檔案的變化** (`git diff`)\n",
    "3. **回到之前的版本** (`git checkout`)\n",
    "4. **建立分支** (`git branch`)\n",
    "5. **上傳到 GitHub**\n",
    "\n",
    "有任何問題都可以問我！"
   ]
  }
 ],
 "metadata": {
  "kernelspec": {
   "display_name": "Python 3",
   "language": "python",
   "name": "python3"
  },
  "language_info": {
   "codemirror_mode": {
    "name": "ipython",
    "version": 3
   },
   "file_extension": ".py",
   "mimetype": "text/x-python",
   "name": "python",
   "nbconvert_exporter": "python",
   "pygments_lexer": "ipython3",
   "version": "3.8.0"
  }
 },
 "nbformat": 4,
 "nbformat_minor": 4
}