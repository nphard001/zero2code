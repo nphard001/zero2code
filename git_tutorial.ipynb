{
 "cells": [
  {
   "cell_type": "markdown",
   "metadata": {},
   "source": "# 🎮 Git 大冒險：從混亂到有序的魔法之旅\n\n## 你是否曾經遇過這些困擾？\n\n😱 **檔案地獄**\n```\n報告.docx\n報告_修改版.docx\n報告_修改版2.docx\n報告_最終版.docx\n報告_最終版_真的是最後了.docx\n報告_最終版_真的是最後了_教授說要改.docx\n```\n\n😰 **時光倒流的渴望**\n- 「糟糕！我剛剛刪掉的那段其實是對的...」\n- 「上個星期的版本在哪裡？」\n- 「誰改了這個檔案？改了什麼？」\n\n如果你點頭如搗蒜，那麼恭喜你 —— **Git 就是為了拯救你而生的！**"
  },
  {
   "cell_type": "markdown",
   "source": "## 🗺️ 你的學習地圖\n\n```\n        你在這裡\n           ↓\n[🚀]---[📦]---[👀]---[🛒]---[💾]---[📚]---[🎯]\n 啟動   創建   偵察   打包   存檔   回顧   完成！\n```\n\n**預計時間**：15 分鐘  \n**難度等級**：⭐☆☆☆☆  \n**成就解鎖**：Git 新手村畢業證書 🎓",
   "metadata": {}
  },
  {
   "cell_type": "markdown",
   "source": "## 🚀 第一站：啟動你的時光機器（git init）\n\n### 🎯 這一步你會學到\n> 如何讓 Git 開始守護你的資料夾\n\n### 💭 想像一下\n你要在這個資料夾裡安裝一個「隱形管家」，它會默默記錄所有的變化。\n\n### ⌨️ 動手時間！",
   "metadata": {}
  },
  {
   "cell_type": "markdown",
   "metadata": {},
   "source": "# 🎮 在終端機輸入魔法咒語：\n# git init\n\n# 💡 小知識：init 是 initialize（初始化）的縮寫\n# 就像遊戲開始前的「創建新存檔」"
  },
  {
   "cell_type": "code",
   "execution_count": null,
   "metadata": {},
   "outputs": [],
   "source": "### 🎉 成功了！你會看到：\n\n```\nInitialized empty Git repository in /你的/資料夾/路徑/.git/\n```\n\n✨ **恭喜！你剛剛：**\n- ✅ 啟動了 Git 系統\n- ✅ 創建了一個隱藏的 `.git` 資料夾（你的時光機器核心）\n- ✅ 完成了最重要的第一步！\n\n> 💡 **小秘密**：`.git` 資料夾就像遊戲的存檔資料夾，平常看不到但一直在默默工作"
  },
  {
   "cell_type": "markdown",
   "metadata": {},
   "source": "## 📦 第二站：創造你的第一個作品\n\n### 🎯 這一步你會學到\n> 創建檔案，讓 Git 有東西可以追蹤\n\n### 💭 故事時間\n現在時光機器已經準備好了，但是空蕩蕩的資料夾沒什麼好記錄的。讓我們創造一些內容！\n\n### 📝 我們創建的檔案\n\n**檔名**：`hello.txt`  \n**內容**：\n```\n哈囉！這是我的第一個 Git 專案。\n今天開始學習 Git！\n```\n\n這就像在新買的筆記本上寫下第一行字 ✍️"
  },
  {
   "cell_type": "markdown",
   "metadata": {},
   "source": "## 👀 第三站：偵察現況（git status）\n\n### 🎯 這一步你會學到\n> 如何查看 Git 發現了什麼變化\n\n### 💭 想像一下\n你的隱形管家發現了新東西，現在讓它報告一下情況。\n\n### ⌨️ 動手時間！"
  },
  {
   "cell_type": "markdown",
   "metadata": {},
   "source": "# 🔍 詢問 Git：「現在是什麼情況？」\n# git status\n\n# 💡 記憶技巧：status = 狀態\n# 就像查看遊戲中的任務進度"
  },
  {
   "cell_type": "code",
   "execution_count": null,
   "metadata": {},
   "outputs": [],
   "source": "### 🔍 Git 的偵察報告\n\n```\nOn branch main                    👈 你在主線劇情上\n\nNo commits yet                    👈 還沒有任何存檔點\n\nUntracked files:                  👈 發現新檔案！\n  (use \"git add <file>...\" to include in what will be committed)\n\thello.txt                     👈 就是這個！\n\nnothing added to commit but untracked files present\n```\n\n### 🤔 Git 在說什麼？\n\n翻譯成人話：\n> 「老闆，我發現了一個新檔案 `hello.txt`，但你還沒告訴我要不要管它。要追蹤這個檔案嗎？」\n\n**檔案狀態圖**：\n```\n📄 hello.txt\n     |\n     v\n[未追蹤] 😴  <-- 現在在這裡\n     |\n     ? \n[暫存區] 📦\n     |\n     ?\n[儲存庫] 💾\n```"
  },
  {
   "cell_type": "markdown",
   "metadata": {},
   "source": "## 🛒 第四站：打包準備（git add）\n\n### 🎯 這一步你會學到\n> 如何把檔案放進「暫存區」，準備存檔\n\n### 💭 生活化比喻\n\n想像你在整理行李：\n1. 🏠 **房間裡的東西** = 工作目錄的檔案\n2. 🧳 **打開的行李箱** = 暫存區\n3. ✈️ **託運的行李** = 已提交的版本\n\n現在我們要把 `hello.txt` 放進行李箱！\n\n### ⌨️ 動手時間！"
  },
  {
   "cell_type": "markdown",
   "metadata": {},
   "source": "# 📦 把檔案放進暫存區\n# git add hello.txt\n\n# 💡 小技巧：\n# git add .          👈 加入所有檔案\n# git add *.txt      👈 加入所有 .txt 檔案\n# git add hello.txt  👈 只加入特定檔案"
  },
  {
   "cell_type": "code",
   "execution_count": null,
   "metadata": {},
   "outputs": [],
   "source": "### 🔍 再次偵察！\n\n執行 `git status` 看看發生了什麼變化：\n\n```\nOn branch main\n\nNo commits yet\n\nChanges to be committed:          👈 準備要存檔的變更\n  (use \"git rm --cached <file>...\" to unstage)\n\tnew file:   hello.txt         👈 標記為「新檔案」\n```\n\n### ✅ 狀態更新！\n\n```\n📄 hello.txt\n     |\n     v\n[未追蹤] 😴  \n     |\n     v \n[暫存區] 📦  <-- 現在在這裡！\n     |\n     ?\n[儲存庫] 💾\n```\n\n> 🎉 **小成就解鎖**：打包大師！你學會了如何準備檔案進行存檔。"
  },
  {
   "cell_type": "markdown",
   "metadata": {},
   "source": "## 💾 第五站：時光定格（git commit）\n\n### 🎯 這一步你會學到\n> 如何創建你的第一個「存檔點」\n\n### 💭 關鍵時刻\n\n這是最重要的一步！就像：\n- 📸 按下相機快門，拍下這一刻\n- 💾 在遊戲中存檔\n- 📝 在日記上寫下今天的故事\n\n### ⌨️ 施展魔法！"
  },
  {
   "cell_type": "markdown",
   "metadata": {},
   "source": "# 💾 創建存檔點，並留下訊息\n# git commit -m \"我的第一個提交！\"\n\n# 💡 -m 代表 message（訊息）\n# 好的提交訊息就像照片的標題，讓未來的你知道這是什麼\n\n# 🌟 好的訊息範例：\n# \"新增使用者登入功能\"\n# \"修復首頁顯示錯誤\"\n# \"更新 README 說明文件\"\n\n# 😅 不好的訊息範例：\n# \"修改一些東西\"\n# \"123\"\n# \"....\""
  },
  {
   "cell_type": "code",
   "execution_count": null,
   "metadata": {},
   "outputs": [],
   "source": "### 🎊 恭喜！你創造了歷史！\n\n```\n[main (root-commit) ecf862a] 我的第一個提交！\n 1 file changed, 2 insertions(+)\n create mode 100644 hello.txt\n```\n\n### 📊 成就報告解讀\n\n| 資訊 | 意思 | 比喻 |\n|------|------|------|\n| `ecf862a` | 存檔編號 | 像是照片的流水號 |\n| `1 file changed` | 1個檔案被改變 | 這次拍了1張照片 |\n| `2 insertions(+)` | 新增了2行 | 照片裡有2個新東西 |\n| `create mode 100644` | 創建了新檔案 | 這是全新的照片 |\n\n### 🏆 狀態完成！\n\n```\n📄 hello.txt\n     |\n     v\n[未追蹤] 😴  \n     |\n     v \n[暫存區] 📦  \n     |\n     v\n[儲存庫] 💾  <-- 到達終點！\n```\n\n> 🎮 **重大成就解鎖**：時光守護者！你成功創建了第一個 Git 提交！"
  },
  {
   "cell_type": "markdown",
   "metadata": {},
   "source": "## 📚 第六站：翻閱時光相簿（git log）\n\n### 🎯 這一步你會學到\n> 如何查看所有的存檔記錄\n\n### 💭 回顧過往\n就像翻開相簿，看看我們拍過的所有照片。\n\n### ⌨️ 打開相簿"
  },
  {
   "cell_type": "markdown",
   "metadata": {},
   "source": "# 📖 查看提交歷史（簡潔版）\n# git log --oneline\n\n# 💡 其他檢視方式：\n# git log              👈 詳細版本\n# git log --graph      👈 圖形化顯示\n# git log -3           👈 只看最近3筆"
  },
  {
   "cell_type": "code",
   "execution_count": null,
   "metadata": {},
   "outputs": [],
   "source": "### 📖 你的時光相簿\n\n```\necf862a 我的第一個提交！\n```\n\n現在只有一張照片，但隨著專案成長，這裡會變成：\n\n```\na3f4b5c 完成購物車功能\nd7e8f9g 修復登入錯誤  \necf862a 我的第一個提交！\n```\n\n每一行都是一個時光節點，你可以隨時回到過去！"
  },
  {
   "cell_type": "markdown",
   "metadata": {},
   "source": "## 🎯 任務完成！你學會了什麼？\n\n### 🏆 解鎖的技能\n\n| 技能 | 指令 | 你現在可以... |\n|------|------|---------------|\n| 🚀 **時光機器啟動** | `git init` | 讓任何資料夾擁有版本控制 |\n| 👀 **狀態偵察** | `git status` | 隨時知道發生了什麼事 |\n| 🛒 **智慧打包** | `git add` | 選擇要保存的內容 |\n| 💾 **時光定格** | `git commit` | 創建不會消失的存檔點 |\n| 📚 **歷史檢視** | `git log` | 查看所有的冒險記錄 |\n\n### 🌈 Git 工作流程總覽\n\n```\n工作目錄          暫存區           儲存庫\n   📝      git add    📦    git commit   💾\n   ├─────────────────>├──────────────────>│\n   │                  │                   │\n   │<─────────────────────────────────────┤\n            git checkout                   \n```"
  },
  {
   "cell_type": "markdown",
   "metadata": {},
   "source": "## 🚪 下一個冒險在等著你！\n\n### 🗺️ 進階地圖解鎖\n\n你已經掌握了基礎，接下來可以探索：\n\n#### 🌿 **分支魔法** (`git branch`)\n創造平行宇宙，同時開發不同功能\n\n#### 🔄 **時光旅行** (`git checkout`)\n回到過去的任何一個時間點\n\n#### 🔍 **差異偵探** (`git diff`)\n看看到底改了什麼東西\n\n#### 🌐 **雲端同步** (`git push`)\n把你的時光機器備份到 GitHub\n\n#### 🤝 **團隊協作** (`git pull`)\n和其他時光守護者一起工作\n\n### 💪 給自己的鼓勵\n\n> 你已經不再是那個為檔案版本苦惱的人了！  \n> 從今天起，你是自己程式碼的「時光守護者」。  \n> 每一個 commit 都是你成長的足跡。  \n\n### 🎮 繼續你的 Git 大冒險吧！\n\n---\n\n**記住：每個 Git 大師都是從 `git init` 開始的** ⭐"
  },
  {
   "cell_type": "markdown",
   "metadata": {},
   "source": [
    "## 下一步\n",
    "\n",
    "你已經學會了 Git 的基礎！接下來可以學習：\n",
    "\n",
    "1. **修改檔案並提交新版本**\n",
    "2. **查看檔案的變化** (`git diff`)\n",
    "3. **回到之前的版本** (`git checkout`)\n",
    "4. **建立分支** (`git branch`)\n",
    "5. **上傳到 GitHub**\n",
    "\n",
    "有任何問題都可以問我！"
   ]
  }
 ],
 "metadata": {
  "kernelspec": {
   "display_name": "Python 3",
   "language": "python",
   "name": "python3"
  },
  "language_info": {
   "codemirror_mode": {
    "name": "ipython",
    "version": 3
   },
   "file_extension": ".py",
   "mimetype": "text/x-python",
   "name": "python",
   "nbconvert_exporter": "python",
   "pygments_lexer": "ipython3",
   "version": "3.8.0"
  }
 },
 "nbformat": 4,
 "nbformat_minor": 4
}