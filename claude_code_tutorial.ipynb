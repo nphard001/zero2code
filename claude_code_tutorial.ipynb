{
 "cells": [
  {
   "cell_type": "markdown",
   "metadata": {},
   "source": [
    "# Claude Code 完整教學指南\n",
    "\n",
    "歡迎來到 Claude Code 的世界！這是一個能讓你用自然語言寫程式的 AI 助手。\n",
    "\n",
    "![Claude Code](https://anthropic.com/_next/image?url=https%3A%2F%2Fwww-cdn.anthropic.com%2Fimages%2F4zrzovbb%2Fwebsite%2Ff2b5d5e1d3e6c4e9b8d5a3c1f7e9d2a6b4c8e1f2-1200x630.png&w=3840&q=75)"
   ]
  },
  {
   "cell_type": "markdown",
   "metadata": {},
   "source": [
    "## 📚 目錄\n",
    "\n",
    "1. [什麼是 Claude Code？](#什麼是-claude-code)\n",
    "2. [安裝教學](#安裝教學)\n",
    "3. [快速開始](#快速開始)\n",
    "4. [基本使用方式](#基本使用方式)\n",
    "5. [常用功能示範](#常用功能示範)\n",
    "6. [進階功能](#進階功能)\n",
    "7. [實戰範例](#實戰範例)\n",
    "8. [常見問題](#常見問題)"
   ]
  },
  {
   "cell_type": "markdown",
   "metadata": {},
   "source": [
    "## 什麼是 Claude Code？\n",
    "\n",
    "### 🤖 簡單說明\n",
    "\n",
    "想像你有一個超聰明的程式設計夥伴，你只要告訴他「幫我做一個登入頁面」，他就會：\n",
    "1. 理解你的需求\n",
    "2. 寫出程式碼\n",
    "3. 直接修改你的檔案\n",
    "4. 甚至幫你測試和除錯\n",
    "\n",
    "這就是 Claude Code！\n",
    "\n",
    "### 🎯 主要特色\n",
    "\n",
    "| 特色 | 說明 | 好處 |\n",
    "|------|------|------|\n",
    "| **自然語言編程** | 用中文或英文描述需求 | 不需要記住複雜語法 |\n",
    "| **直接操作檔案** | 能讀取、編輯、創建檔案 | 省去複製貼上的麻煩 |\n",
    "| **理解整個專案** | 能瀏覽和理解你的程式架構 | 給出符合專案風格的建議 |\n",
    "| **執行命令** | 能運行測試、安裝套件等 | 一站式完成所有任務 |\n",
    "| **安全可靠** | 不會偷看或上傳你的程式碼 | 企業級的隱私保護 |"
   ]
  },
  {
   "cell_type": "markdown",
   "metadata": {},
   "source": [
    "## 安裝教學\n",
    "\n",
    "### 📋 系統需求\n",
    "\n",
    "- **Node.js** 18 或更新版本\n",
    "- **作業系統**：Windows、macOS、Linux 都支援\n",
    "\n",
    "### 🛠 安裝步驟"
   ]
  },
  {
   "cell_type": "code",
   "execution_count": null,
   "metadata": {},
   "outputs": [],
   "source": [
    "# 步驟 1：檢查 Node.js 版本\n",
    "# 在終端機執行：\n",
    "# node --version\n",
    "\n",
    "# 如果版本低於 18，請先更新 Node.js"
   ]
  },
  {
   "cell_type": "code",
   "execution_count": null,
   "metadata": {},
   "outputs": [],
   "source": [
    "# 步驟 2：安裝 Claude Code\n",
    "# 在終端機執行：\n",
    "# npm install -g @anthropic-ai/claude-code\n",
    "\n",
    "# 這會全域安裝 Claude Code，讓你在任何地方都能使用"
   ]
  },
  {
   "cell_type": "code",
   "execution_count": null,
   "metadata": {},
   "outputs": [],
   "source": [
    "# 步驟 3：驗證安裝\n",
    "# 在終端機執行：\n",
    "# claude --version\n",
    "\n",
    "# 應該會顯示版本號碼"
   ]
  },
  {
   "cell_type": "markdown",
   "metadata": {},
   "source": [
    "### 🔑 設定 API Key\n",
    "\n",
    "第一次使用時，Claude Code 會要求你輸入 API key：\n",
    "\n",
    "1. 前往 [Anthropic Console](https://console.anthropic.com/)\n",
    "2. 創建或登入帳號\n",
    "3. 生成 API key\n",
    "4. 在 Claude Code 提示時貼上"
   ]
  },
  {
   "cell_type": "markdown",
   "metadata": {},
   "source": [
    "## 快速開始\n",
    "\n",
    "### 🚀 你的第一個 Claude Code 對話"
   ]
  },
  {
   "cell_type": "code",
   "execution_count": null,
   "metadata": {},
   "outputs": [],
   "source": [
    "# 1. 進入你的專案資料夾\n",
    "# cd /path/to/your/project\n",
    "\n",
    "# 2. 啟動 Claude Code\n",
    "# claude\n",
    "\n",
    "# 3. 試試看這些簡單的指令：\n",
    "# \"幫我建立一個 README.md 檔案\"\n",
    "# \"這個專案是做什麼的？\"\n",
    "# \"幫我寫一個簡單的 Hello World 程式\""
   ]
  },
  {
   "cell_type": "markdown",
   "metadata": {},
   "source": [
    "### 💬 對話模式 vs 一次性命令\n",
    "\n",
    "Claude Code 有兩種使用方式：\n",
    "\n",
    "#### 1. **互動對話模式**（推薦初學者）\n",
    "```bash\n",
    "claude\n",
    "```\n",
    "- 可以持續對話\n",
    "- 適合複雜任務\n",
    "- 可以追問和修正\n",
    "\n",
    "#### 2. **一次性命令模式**\n",
    "```bash\n",
    "claude \"幫我修正這個錯誤\"\n",
    "```\n",
    "- 快速執行單一任務\n",
    "- 適合簡單需求\n",
    "- 執行完就結束"
   ]
  },
  {
   "cell_type": "markdown",
   "metadata": {},
   "source": [
    "## 基本使用方式\n",
    "\n",
    "### 📝 常見使用情境"
   ]
  },
  {
   "cell_type": "markdown",
   "metadata": {},
   "source": [
    "#### 情境 1：理解程式碼\n",
    "\n",
    "```\n",
    "你：這個專案的架構是怎樣的？\n",
    "Claude：[會分析專案結構並解釋]\n",
    "\n",
    "你：utils.js 裡面的 formatDate 函數是做什麼的？\n",
    "Claude：[會讀取檔案並解釋函數功能]\n",
    "```"
   ]
  },
  {
   "cell_type": "markdown",
   "metadata": {},
   "source": [
    "#### 情境 2：修改程式碼\n",
    "\n",
    "```\n",
    "你：幫我在 index.html 加入一個導航列\n",
    "Claude：[會直接編輯 index.html 檔案]\n",
    "\n",
    "你：把所有的 var 改成 const 或 let\n",
    "Claude：[會搜尋並修改所有相關檔案]\n",
    "```"
   ]
  },
  {
   "cell_type": "markdown",
   "metadata": {},
   "source": [
    "#### 情境 3：除錯\n",
    "\n",
    "```\n",
    "你：我執行 npm start 時出現錯誤：[貼上錯誤訊息]\n",
    "Claude：[會分析錯誤並提供解決方案]\n",
    "\n",
    "你：幫我修正這個錯誤\n",
    "Claude：[會直接修改有問題的程式碼]\n",
    "```"
   ]
  },
  {
   "cell_type": "markdown",
   "metadata": {},
   "source": [
    "### 🎮 互動模式的操作技巧\n",
    "\n",
    "| 操作 | 快捷鍵 | 用途 |\n",
    "|------|--------|------|\n",
    "| 多行輸入 | `\\` + Enter 或 Option+Enter | 輸入較長的程式碼或說明 |\n",
    "| 取消當前操作 | Ctrl+C | Claude 正在執行時中斷 |\n",
    "| 退出 | Ctrl+D 或輸入 `/exit` | 結束對話 |\n",
    "| 清除畫面 | `/clear` | 清空對話歷史 |\n",
    "| 查看幫助 | `/help` | 顯示所有可用命令 |"
   ]
  },
  {
   "cell_type": "markdown",
   "metadata": {},
   "source": [
    "## 常用功能示範\n",
    "\n",
    "### 🔧 功能 1：建立新功能"
   ]
  },
  {
   "cell_type": "markdown",
   "metadata": {},
   "source": [
    "```\n",
    "範例對話：\n",
    "\n",
    "你：幫我建立一個待辦事項的網頁應用\n",
    "\n",
    "Claude 會：\n",
    "1. 建立 HTML 檔案（介面）\n",
    "2. 建立 CSS 檔案（樣式）\n",
    "3. 建立 JavaScript 檔案（功能）\n",
    "4. 實作新增、刪除、標記完成等功能\n",
    "5. 加入本地儲存功能\n",
    "```"
   ]
  },
  {
   "cell_type": "markdown",
   "metadata": {},
   "source": [
    "### 🐛 功能 2：偵錯和修復"
   ]
  },
  {
   "cell_type": "markdown",
   "metadata": {},
   "source": [
    "```\n",
    "範例對話：\n",
    "\n",
    "你：我的登入功能壞了，點擊按鈕沒反應\n",
    "\n",
    "Claude 會：\n",
    "1. 檢查相關的 HTML 和 JavaScript 檔案\n",
    "2. 找出可能的問題（如事件綁定錯誤）\n",
    "3. 提供解決方案\n",
    "4. 直接修復問題\n",
    "5. 解釋問題原因\n",
    "```"
   ]
  },
  {
   "cell_type": "markdown",
   "metadata": {},
   "source": [
    "### 📊 功能 3：程式碼優化"
   ]
  },
  {
   "cell_type": "markdown",
   "metadata": {},
   "source": [
    "```\n",
    "範例對話：\n",
    "\n",
    "你：幫我優化 api.js 的程式碼\n",
    "\n",
    "Claude 會：\n",
    "1. 分析現有程式碼\n",
    "2. 找出可優化的地方\n",
    "3. 重構重複的程式碼\n",
    "4. 改善錯誤處理\n",
    "5. 加入適當的註解\n",
    "```"
   ]
  },
  {
   "cell_type": "markdown",
   "metadata": {},
   "source": [
    "### 🧪 功能 4：撰寫測試"
   ]
  },
  {
   "cell_type": "markdown",
   "metadata": {},
   "source": [
    "```\n",
    "範例對話：\n",
    "\n",
    "你：幫 utils.js 寫單元測試\n",
    "\n",
    "Claude 會：\n",
    "1. 分析 utils.js 的功能\n",
    "2. 選擇合適的測試框架\n",
    "3. 撰寫完整的測試案例\n",
    "4. 包含正常和邊界情況\n",
    "5. 提供執行測試的指令\n",
    "```"
   ]
  },
  {
   "cell_type": "markdown",
   "metadata": {},
   "source": [
    "## 進階功能\n",
    "\n",
    "### ⚡ Slash 命令大全"
   ]
  },
  {
   "cell_type": "markdown",
   "metadata": {},
   "source": [
    "| 命令 | 功能 | 使用時機 |\n",
    "|------|------|----------|\n",
    "| `/help` | 顯示所有可用命令 | 忘記命令時 |\n",
    "| `/clear` | 清除對話歷史 | 畫面太亂時 |\n",
    "| `/model` | 切換 AI 模型 | 需要更強大的模型時 |\n",
    "| `/vim` | 進入 vim 編輯模式 | 編寫較長的程式碼 |\n",
    "| `/cost` | 查看 API 使用量 | 控制成本 |\n",
    "| `/review` | 請求程式碼審查 | 完成功能後 |\n",
    "| `/memory` | 編輯專案記憶檔案 | 讓 Claude 記住重要資訊 |\n",
    "| `/config` | 查看/修改設定 | 自訂行為 |\n",
    "| `/continue` | 繼續上次對話 | 中斷後繼續 |"
   ]
  },
  {
   "cell_type": "markdown",
   "metadata": {},
   "source": [
    "### 🧠 專案記憶功能\n",
    "\n",
    "Claude Code 可以記住專案的重要資訊：\n",
    "\n",
    "1. **建立記憶檔案**\n",
    "   ```\n",
    "   /memory\n",
    "   ```\n",
    "\n",
    "2. **記憶檔案內容範例**\n",
    "   ```markdown\n",
    "   # 專案資訊\n",
    "   - 這是一個電商網站\n",
    "   - 使用 React + Node.js\n",
    "   - 資料庫是 MongoDB\n",
    "   \n",
    "   # 編碼規範\n",
    "   - 使用 2 空格縮排\n",
    "   - 變數命名用 camelCase\n",
    "   - 元件命名用 PascalCase\n",
    "   ```\n",
    "\n",
    "3. **好處**\n",
    "   - Claude 會記住這些資訊\n",
    "   - 不用每次都重複說明\n",
    "   - 確保一致的編碼風格"
   ]
  },
  {
   "cell_type": "markdown",
   "metadata": {},
   "source": [
    "### 🔌 MCP (Model Context Protocol) 整合\n",
    "\n",
    "MCP 讓 Claude Code 能連接外部工具：\n",
    "\n",
    "```bash\n",
    "# 配置 MCP 伺服器\n",
    "claude mcp\n",
    "```\n",
    "\n",
    "可以整合：\n",
    "- 資料庫查詢工具\n",
    "- API 測試工具\n",
    "- 專案管理系統\n",
    "- 更多自訂工具"
   ]
  },
  {
   "cell_type": "markdown",
   "metadata": {},
   "source": [
    "## 實戰範例\n",
    "\n",
    "### 範例 1：從零開始建立部落格"
   ]
  },
  {
   "cell_type": "markdown",
   "metadata": {},
   "source": [
    "```bash\n",
    "# 步驟 1：建立專案資料夾\n",
    "mkdir my-blog\n",
    "cd my-blog\n",
    "\n",
    "# 步驟 2：啟動 Claude Code\n",
    "claude\n",
    "\n",
    "# 步驟 3：描述需求\n",
    "\"幫我建立一個簡單的部落格網站，要有：\n",
    "1. 首頁顯示文章列表\n",
    "2. 文章詳細頁面\n",
    "3. 關於我頁面\n",
    "4. 響應式設計\n",
    "5. 使用現代化的設計風格\"\n",
    "\n",
    "# Claude 會自動：\n",
    "# - 建立 HTML 結構\n",
    "# - 設計 CSS 樣式\n",
    "# - 實作 JavaScript 功能\n",
    "# - 建立範例文章\n",
    "```"
   ]
  },
  {
   "cell_type": "markdown",
   "metadata": {},
   "source": [
    "### 範例 2：將專案升級到 TypeScript"
   ]
  },
  {
   "cell_type": "markdown",
   "metadata": {},
   "source": [
    "```bash\n",
    "# 在現有 JavaScript 專案中\n",
    "claude\n",
    "\n",
    "\"幫我把這個專案從 JavaScript 轉換成 TypeScript：\n",
    "1. 安裝必要的套件\n",
    "2. 建立 tsconfig.json\n",
    "3. 將 .js 檔案改成 .ts\n",
    "4. 加入適當的型別定義\n",
    "5. 修復型別錯誤\"\n",
    "\n",
    "# Claude 會：\n",
    "# - 執行 npm install typescript @types/node 等\n",
    "# - 建立設定檔\n",
    "# - 逐一轉換檔案\n",
    "# - 加入型別註解\n",
    "```"
   ]
  },
  {
   "cell_type": "markdown",
   "metadata": {},
   "source": [
    "### 範例 3：API 整合"
   ]
  },
  {
   "cell_type": "markdown",
   "metadata": {},
   "source": [
    "```bash\n",
    "claude\n",
    "\n",
    "\"幫我整合天氣 API：\n",
    "1. 使用 OpenWeatherMap API\n",
    "2. 建立一個搜尋介面\n",
    "3. 顯示城市的天氣資訊\n",
    "4. 包含溫度、濕度、天氣描述\n",
    "5. 加入錯誤處理\"\n",
    "\n",
    "# Claude 會：\n",
    "# - 建立 HTML 表單\n",
    "# - 實作 API 呼叫\n",
    "# - 處理回應資料\n",
    "# - 顯示結果\n",
    "# - 加入載入動畫\n",
    "```"
   ]
  },
  {
   "cell_type": "markdown",
   "metadata": {},
   "source": [
    "## 常見問題\n",
    "\n",
    "### ❓ Q1: Claude Code 會看到我的程式碼嗎？\n",
    "\n",
    "**A:** Claude Code 重視隱私：\n",
    "- 程式碼只在你的電腦處理\n",
    "- 只傳送必要的上下文給 AI\n",
    "- 不會儲存或分享你的程式碼\n",
    "- 符合企業級安全標準\n",
    "\n",
    "### ❓ Q2: 如何控制 API 使用成本？\n",
    "\n",
    "**A:** 幾個省錢技巧：\n",
    "1. 使用 `/cost` 追蹤使用量\n",
    "2. 明確描述需求，減少來回對話\n",
    "3. 對簡單任務使用較小的模型\n",
    "4. 設定每月使用上限\n",
    "\n",
    "### ❓ Q3: Claude Code 支援哪些程式語言？\n",
    "\n",
    "**A:** 幾乎所有主流語言：\n",
    "- 前端：HTML, CSS, JavaScript, TypeScript, React, Vue, Angular\n",
    "- 後端：Node.js, Python, Java, Go, Ruby, PHP\n",
    "- 其他：SQL, Bash, Markdown, JSON, YAML\n",
    "\n",
    "### ❓ Q4: 可以離線使用嗎？\n",
    "\n",
    "**A:** 不行，Claude Code 需要：\n",
    "- 網路連線（呼叫 AI API）\n",
    "- 有效的 API key\n",
    "- 但你的程式碼都在本地處理\n",
    "\n",
    "### ❓ Q5: 如何更新 Claude Code？\n",
    "\n",
    "**A:** 超簡單：\n",
    "```bash\n",
    "claude update\n",
    "```"
   ]
  },
  {
   "cell_type": "markdown",
   "metadata": {},
   "source": [
    "## 🎯 使用技巧總結\n",
    "\n",
    "### 初學者建議\n",
    "\n",
    "1. **從簡單開始**\n",
    "   - 先試試看理解程式碼的功能\n",
    "   - 再嘗試小幅修改\n",
    "   - 最後挑戰建立新功能\n",
    "\n",
    "2. **清楚描述需求**\n",
    "   - ❌ 「幫我改一下」\n",
    "   - ✅ 「幫我把登入按鈕改成藍色，並加入點擊動畫」\n",
    "\n",
    "3. **善用專案記憶**\n",
    "   - 記錄專案的重要資訊\n",
    "   - 設定編碼規範\n",
    "   - 節省重複說明的時間\n",
    "\n",
    "4. **分步驟進行**\n",
    "   - 複雜任務分成小步驟\n",
    "   - 每步確認結果\n",
    "   - 有問題立即修正\n",
    "\n",
    "### 進階使用者建議\n",
    "\n",
    "1. **整合到工作流程**\n",
    "   - 配合 Git 使用\n",
    "   - 整合 CI/CD\n",
    "   - 自動化重複任務\n",
    "\n",
    "2. **自訂命令**\n",
    "   - 建立專案專屬命令\n",
    "   - 優化常用操作\n",
    "   - 分享給團隊使用\n",
    "\n",
    "3. **探索 MCP 生態**\n",
    "   - 連接更多工具\n",
    "   - 擴展 Claude 能力\n",
    "   - 建立自己的整合"
   ]
  },
  {
   "cell_type": "markdown",
   "metadata": {},
   "source": [
    "## 🚀 下一步\n",
    "\n",
    "恭喜你完成了 Claude Code 的學習！接下來你可以：\n",
    "\n",
    "1. **實際練習**\n",
    "   - 用 Claude Code 改善現有專案\n",
    "   - 嘗試不同類型的任務\n",
    "   - 探索更多功能\n",
    "\n",
    "2. **深入學習**\n",
    "   - 閱讀[官方文檔](https://docs.anthropic.com/en/docs/claude-code)\n",
    "   - 加入社群討論\n",
    "   - 分享使用心得\n",
    "\n",
    "3. **提供回饋**\n",
    "   - 在 [GitHub](https://github.com/anthropics/claude-code/issues) 回報問題\n",
    "   - 建議新功能\n",
    "   - 幫助其他使用者\n",
    "\n",
    "### 記住：Claude Code 是你的程式設計夥伴，而不是取代你的工具。善用它來提升效率，但保持學習和理解程式碼的習慣！\n",
    "\n",
    "祝你編程愉快！ 🎉"
   ]
  }
 ],
 "metadata": {
  "kernelspec": {
   "display_name": "Python 3",
   "language": "python",
   "name": "python3"
  },
  "language_info": {
   "codemirror_mode": {
    "name": "ipython",
    "version": 3
   },
   "file_extension": ".py",
   "mimetype": "text/x-python",
   "name": "python",
   "nbconvert_exporter": "python",
   "pygments_lexer": "ipython3",
   "version": "3.8.0"
  }
 },
 "nbformat": 4,
 "nbformat_minor": 4
}