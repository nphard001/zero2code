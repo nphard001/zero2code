{
 "cells": [
  {
   "cell_type": "markdown",
   "metadata": {},
   "source": [
    "# 🐳 Docker 大冒險：便當盒裡的魔法世界\n",
    "\n",
    "## 你是否曾經遇過這些崩潰時刻？\n",
    "\n",
    "😱 **經典對話**\n",
    "```\n",
    "你：「程式寫好了！」\n",
    "同事：「在我電腦上不能跑耶...」\n",
    "你：「可是在我的電腦上可以跑啊！」\n",
    "```\n",
    "\n",
    "🤯 **環境地獄**\n",
    "- 「要先裝 Python 3.8，不是 3.9 喔」\n",
    "- 「這個套件版本要剛好是 2.4.1」\n",
    "- 「你的作業系統是...？」\n",
    "- 「環境變數有設定嗎？」\n",
    "\n",
    "如果你曾經為了環境設定抓狂，恭喜你 —— **Docker 就是你的救星！**"
   ]
  },
  {
   "cell_type": "markdown",
   "metadata": {},
   "source": [
    "## 🍱 什麼是 Docker？用便當說給你聽\n",
    "\n",
    "### 便當店的智慧\n",
    "\n",
    "想像你開了一家便當店：\n",
    "\n",
    "| 便當店 | Docker |\n",
    "|--------|--------|\n",
    "| 🍱 **便當盒** | **容器 (Container)** |\n",
    "| 🧊 **冷凍便當** | **映像檔 (Image)** |\n",
    "| 📋 **食譜** | **Dockerfile** |\n",
    "| 🏪 **7-11 微波食品區** | **Docker Hub** |\n",
    "\n",
    "### 為什麼要用便當盒？\n",
    "\n",
    "1. **📦 完整打包**：飯、菜、湯都在裡面\n",
    "2. **🚀 即開即食**：不用自己煮\n",
    "3. **♻️ 隨處可吃**：辦公室、家裡、公園都OK\n",
    "4. **🎯 品質一致**：每個便當都一樣好吃\n",
    "\n",
    "**Docker 就是把你的程式裝進「便當盒」，到哪都能「吃」！**"
   ]
  },
  {
   "cell_type": "markdown",
   "metadata": {},
   "source": [
    "## 🗺️ 你的 Docker 學習地圖\n",
    "\n",
    "```\n",
    "     新手村地圖（本教學範圍）\n",
    "           你在這裡\n",
    "              ↓\n",
    "    [🏪]---[🍱]---[👀]---[🏗️]---[📤]---[🎯]\n",
    "    安裝   初體驗  管理   建造   分享   完成！\n",
    "\n",
    "    ═══════════════════════════════════════\n",
    "    \n",
    "    🗺️ 完整學習路線圖（未來章節）\n",
    "    \n",
    "    [Docker 新手村] ← 本教學\n",
    "           ↓\n",
    "    [Docker Compose 村莊]\n",
    "           ↓\n",
    "    [網路與儲存城鎮]\n",
    "           ↓\n",
    "    [安全與優化都市]\n",
    "           ↓\n",
    "    [Kubernetes 王國]\n",
    "```\n",
    "\n",
    "**預計時間**：20 分鐘  \n",
    "**難度等級**：⭐☆☆☆☆  \n",
    "**前置需求**：會用終端機就好"
   ]
  },
  {
   "cell_type": "markdown",
   "metadata": {},
   "source": [
    "## 🏪 第一站：開店準備（安裝 Docker）\n",
    "\n",
    "### 🎯 這一步你會學到\n",
    "> 如何在電腦上安裝 Docker\n",
    "\n",
    "### 💻 根據你的系統選擇\n",
    "\n",
    "#### macOS\n",
    "1. 下載 [Docker Desktop for Mac](https://www.docker.com/products/docker-desktop)\n",
    "2. 打開 .dmg 檔案，拖曳到 Applications\n",
    "3. 啟動 Docker Desktop\n",
    "\n",
    "#### Windows\n",
    "1. 下載 [Docker Desktop for Windows](https://www.docker.com/products/docker-desktop)\n",
    "2. 執行安裝程式\n",
    "3. 可能需要啟用 WSL2\n",
    "\n",
    "#### Linux\n",
    "```bash\n",
    "# Ubuntu/Debian\n",
    "sudo apt update\n",
    "sudo apt install docker.io\n",
    "sudo systemctl start docker\n",
    "```\n",
    "\n",
    "### ✅ 確認安裝成功"
   ]
  },
  {
   "cell_type": "code",
   "execution_count": null,
   "metadata": {},
   "outputs": [],
   "source": [
    "# 🔍 檢查 Docker 是否安裝成功\n",
    "# docker --version\n",
    "\n",
    "# 應該會看到類似：\n",
    "# Docker version 24.0.5, build 1234567"
   ]
  },
  {
   "cell_type": "markdown",
   "metadata": {},
   "source": [
    "## 🍱 第二站：買你的第一個便當（Hello World）\n",
    "\n",
    "### 🎯 這一步你會學到\n",
    "> 如何執行你的第一個 Docker 容器\n",
    "\n",
    "### 💭 發生了什麼事？\n",
    "就像去便利商店買微波便當：\n",
    "1. 🔍 找便當（下載映像檔）\n",
    "2. 🍱 加熱（啟動容器）\n",
    "3. 😋 享用（執行程式）\n",
    "\n",
    "### ⌨️ 來買便當吧！"
   ]
  },
  {
   "cell_type": "code",
   "execution_count": null,
   "metadata": {},
   "outputs": [],
   "source": [
    "# 🚀 執行你的第一個容器\n",
    "# docker run hello-world\n",
    "\n",
    "# 💡 這個命令會：\n",
    "# 1. 去 Docker Hub「商店」找 hello-world 這個「便當」\n",
    "# 2. 下載到你的電腦\n",
    "# 3. 啟動並執行"
   ]
  },
  {
   "cell_type": "markdown",
   "metadata": {},
   "source": [
    "### 🎉 成功畫面\n",
    "\n",
    "```\n",
    "Hello from Docker!\n",
    "This message shows that your installation appears to be working correctly.\n",
    "\n",
    "To generate this message, Docker took the following steps:\n",
    " 1. The Docker client contacted the Docker daemon.\n",
    " 2. The Docker daemon pulled the \"hello-world\" image from the Docker Hub.\n",
    " 3. The Docker daemon created a new container from that image.\n",
    " 4. The Docker daemon streamed that output to the Docker client.\n",
    "```\n",
    "\n",
    "### 🏆 恭喜！你剛剛完成了：\n",
    "- ✅ 下載了第一個映像檔\n",
    "- ✅ 啟動了第一個容器\n",
    "- ✅ 見證了 Docker 的魔法！\n",
    "\n",
    "> 💡 **小知識**：hello-world 是 Docker 官方的測試映像檔，專門用來確認安裝成功"
   ]
  },
  {
   "cell_type": "markdown",
   "metadata": {},
   "source": [
    "## 🎮 來點真實的：執行一個網站\n",
    "\n",
    "### 🎯 這一步你會學到\n",
    "> 如何執行一個真正的應用程式\n",
    "\n",
    "### 🌐 執行 Nginx 網頁伺服器"
   ]
  },
  {
   "cell_type": "code",
   "execution_count": null,
   "metadata": {},
   "outputs": [],
   "source": [
    "# 🌐 啟動一個網頁伺服器\n",
    "# docker run -p 8080:80 nginx\n",
    "\n",
    "# 💡 參數解釋：\n",
    "# -p 8080:80 = 把容器的 80 port 對應到電腦的 8080 port\n",
    "#              (像是設定便當的取餐窗口)\n",
    "# nginx = 一個流行的網頁伺服器"
   ]
  },
  {
   "cell_type": "markdown",
   "metadata": {},
   "source": [
    "### 🎊 測試你的網站\n",
    "\n",
    "1. 打開瀏覽器\n",
    "2. 前往 http://localhost:8080\n",
    "3. 你會看到 Nginx 歡迎頁面！\n",
    "\n",
    "### 🛑 如何停止\n",
    "在終端機按 `Ctrl + C`\n",
    "\n",
    "> 🔮 **進階預告：背景執行**  \n",
    "> 想讓容器在背景執行？可以加上 `-d` 參數  \n",
    "> 👉 深入了解：[Docker 進階操作](docker_advanced_tutorial.ipynb)（即將推出）"
   ]
  },
  {
   "cell_type": "markdown",
   "metadata": {},
   "source": [
    "## 👀 第三站：便當管理中心（查看容器）\n",
    "\n",
    "### 🎯 這一步你會學到\n",
    "> 如何管理你的容器\n",
    "\n",
    "### 📊 三個必學命令"
   ]
  },
  {
   "cell_type": "code",
   "execution_count": null,
   "metadata": {},
   "outputs": [],
   "source": [
    "# 1️⃣ 查看正在執行的容器\n",
    "# docker ps\n",
    "\n",
    "# 2️⃣ 查看所有容器（包含已停止的）\n",
    "# docker ps -a\n",
    "\n",
    "# 3️⃣ 查看已下載的映像檔\n",
    "# docker images"
   ]
  },
  {
   "cell_type": "markdown",
   "metadata": {},
   "source": [
    "### 🧹 清理命令"
   ]
  },
  {
   "cell_type": "code",
   "execution_count": null,
   "metadata": {},
   "outputs": [],
   "source": [
    "# 🗑️ 刪除停止的容器\n",
    "# docker rm 容器ID\n",
    "\n",
    "# 🧹 刪除映像檔\n",
    "# docker rmi 映像檔名稱\n",
    "\n",
    "# 💡 小技巧：容器ID不用打完整，前3-4個字元就夠了"
   ]
  },
  {
   "cell_type": "markdown",
   "metadata": {},
   "source": [
    "## 🏗️ 第四站：自己做便當（建立映像檔）\n",
    "\n",
    "### 🎯 這一步你會學到\n",
    "> 如何建立自己的 Docker 映像檔\n",
    "\n",
    "### 📝 寫你的第一個 Dockerfile（食譜）\n",
    "\n",
    "創建一個新檔案叫 `Dockerfile`："
   ]
  },
  {
   "cell_type": "code",
   "execution_count": null,
   "metadata": {},
   "outputs": [],
   "source": [
    "# Dockerfile 內容：\n",
    "\n",
    "# 從 Python 3.9 開始（選擇基底便當）\n",
    "FROM python:3.9-slim\n",
    "\n",
    "# 設定工作目錄（便當盒的隔層）\n",
    "WORKDIR /app\n",
    "\n",
    "# 複製檔案（把食材放進去）\n",
    "COPY app.py .\n",
    "\n",
    "# 執行程式（上菜！）\n",
    "CMD [\"python\", \"app.py\"]"
   ]
  },
  {
   "cell_type": "markdown",
   "metadata": {},
   "source": [
    "### 🐍 創建簡單的 Python 程式\n",
    "\n",
    "創建 `app.py`："
   ]
  },
  {
   "cell_type": "code",
   "execution_count": null,
   "metadata": {},
   "outputs": [],
   "source": [
    "# app.py 內容：\n",
    "print(\"🍱 我的第一個 Docker 便當！\")\n",
    "print(\"🎉 恭喜你學會 Docker 了！\")"
   ]
  },
  {
   "cell_type": "markdown",
   "metadata": {},
   "source": [
    "### 🔨 建造映像檔"
   ]
  },
  {
   "cell_type": "code",
   "execution_count": null,
   "metadata": {},
   "outputs": [],
   "source": [
    "# 🏗️ 建立映像檔\n",
    "# docker build -t my-first-app .\n",
    "\n",
    "# 💡 參數解釋：\n",
    "# -t my-first-app = 給映像檔取名字\n",
    "# . = 在目前目錄找 Dockerfile"
   ]
  },
  {
   "cell_type": "markdown",
   "metadata": {},
   "source": [
    "### 🚀 執行你的便當"
   ]
  },
  {
   "cell_type": "code",
   "execution_count": null,
   "metadata": {},
   "outputs": [],
   "source": [
    "# 🎮 執行容器\n",
    "# docker run my-first-app\n",
    "\n",
    "# 應該會看到：\n",
    "# 🍱 我的第一個 Docker 便當！\n",
    "# 🎉 恭喜你學會 Docker 了！"
   ]
  },
  {
   "cell_type": "markdown",
   "metadata": {},
   "source": [
    "> 🔮 **進階預告：多階段建構**  \n",
    "> 想要更小、更安全的映像檔？學習多階段建構技巧  \n",
    "> 👉 深入了解：[Dockerfile 最佳實踐](dockerfile_best_practices.ipynb)（即將推出）"
   ]
  },
  {
   "cell_type": "markdown",
   "metadata": {},
   "source": [
    "## 🎯 任務完成！五個必記 Docker 命令\n",
    "\n",
    "### 🏆 你的工具箱\n",
    "\n",
    "| 命令 | 用途 | 記憶口訣 |\n",
    "|------|------|----------|\n",
    "| `docker run` | 執行容器 | Run = 跑起來 |\n",
    "| `docker ps` | 查看容器 | PS = Process Status |\n",
    "| `docker images` | 查看映像檔 | Images = 照片簿 |\n",
    "| `docker build` | 建立映像檔 | Build = 建造 |\n",
    "| `docker stop/rm` | 停止/刪除 | Stop/Remove |\n",
    "\n",
    "### 🎨 Docker 工作流程\n",
    "\n",
    "```\n",
    "   Dockerfile           Image            Container\n",
    "      📋      build      🧊      run       🍱\n",
    "   (食譜) ─────────> (冷凍便當) ─────> (熱騰騰便當)\n",
    "```"
   ]
  },
  {
   "cell_type": "markdown",
   "metadata": {},
   "source": [
    "## 📤 加碼站：分享你的便當（選修）\n",
    "\n",
    "### 🌐 上傳到 Docker Hub\n",
    "\n",
    "想要分享你的映像檔給別人？\n",
    "\n",
    "1. 註冊 [Docker Hub](https://hub.docker.com) 帳號\n",
    "2. 登入：`docker login`\n",
    "3. 標記映像檔：`docker tag my-first-app 你的帳號/my-first-app`\n",
    "4. 上傳：`docker push 你的帳號/my-first-app`\n",
    "\n",
    "現在全世界都可以用 `docker run 你的帳號/my-first-app` 執行你的程式！\n",
    "\n",
    "> 🔮 **進階預告：私有註冊表**  \n",
    "> 公司內部如何建立私有的映像檔倉庫？  \n",
    "> 👉 深入了解：[企業級 Docker Registry](docker_registry_tutorial.ipynb)（即將推出）"
   ]
  },
  {
   "cell_type": "markdown",
   "metadata": {},
   "source": [
    "## 🚪 下一步學習路線\n",
    "\n",
    "### 📚 恭喜完成新手村！接下來...\n",
    "\n",
    "#### 🎯 **Level 2: Docker Compose 村莊**\n",
    "> 🔮 當你需要同時執行多個容器（網站 + 資料庫 + Redis）  \n",
    "> 📖 預計學習時間：30 分鐘  \n",
    "> 👉 [Docker Compose 教學](docker_compose_tutorial.ipynb)（即將推出）\n",
    "\n",
    "#### 🌐 **Level 3: 網路與儲存城鎮**\n",
    "> 🔮 容器間如何溝通？資料如何永久保存？  \n",
    "> 📖 預計學習時間：45 分鐘  \n",
    "> 👉 [Docker 網路與 Volume](docker_network_volume_tutorial.ipynb)（即將推出）\n",
    "\n",
    "#### 🛡️ **Level 4: 安全與優化都市**\n",
    "> 🔮 如何讓映像檔更小更安全？  \n",
    "> 📖 預計學習時間：45 分鐘  \n",
    "> 👉 [Docker 安全最佳實踐](docker_security_tutorial.ipynb)（即將推出）\n",
    "\n",
    "#### 👑 **Level 5: Kubernetes 王國**\n",
    "> 🔮 管理成千上萬個容器的終極武器  \n",
    "> 📖 預計學習時間：2 小時  \n",
    "> 👉 [從 Docker 到 K8s](k8s_tutorial.ipynb)（即將推出）"
   ]
  },
  {
   "cell_type": "markdown",
   "metadata": {},
   "source": [
    "## 💡 常見問題急救包\n",
    "\n",
    "### ❓ Docker 啟動失敗？\n",
    "- Windows：確認 WSL2 已啟用\n",
    "- Mac：確認 Docker Desktop 在執行中（選單列有鯨魚圖示）\n",
    "- Linux：試試 `sudo docker` 或把使用者加入 docker 群組\n",
    "\n",
    "### ❓ 容器一直重啟？\n",
    "- 查看日誌：`docker logs 容器ID`\n",
    "- 可能是程式碼有錯誤\n",
    "\n",
    "### ❓ port 已被佔用？\n",
    "- 換個 port：`-p 8081:80` 而不是 `-p 8080:80`\n",
    "- 或關閉佔用的程式\n",
    "\n",
    "### ❓ 映像檔太大？\n",
    "- 使用 `-slim` 或 `-alpine` 版本的基底映像檔\n",
    "- 清理不需要的檔案\n",
    "\n",
    "> 🔮 **更多疑難雜症？**  \n",
    "> 👉 [Docker 疑難排解大全](docker_troubleshooting.ipynb)（即將推出）"
   ]
  },
  {
   "cell_type": "markdown",
   "metadata": {},
   "source": [
    "## 🎊 結語：你已經是 Docker 訓練師了！\n",
    "\n",
    "### 🏆 你學會的超能力\n",
    "\n",
    "- ✅ **環境打包術**：再也不怕「在我電腦可以跑」\n",
    "- ✅ **快速部署術**：幾秒內啟動任何應用\n",
    "- ✅ **便當製作術**：建立自己的映像檔\n",
    "- ✅ **容器管理術**：輕鬆管理多個容器\n",
    "\n",
    "### 💪 記住三句話\n",
    "\n",
    "1. **Container = 便當盒**（打包好的應用程式）\n",
    "2. **Image = 冷凍便當**（可以產生很多份）\n",
    "3. **Dockerfile = 食譜**（製作說明書）\n",
    "\n",
    "### 🚀 開始你的容器化之旅吧！\n",
    "\n",
    "---\n",
    "\n",
    "**從今天起，你的程式都住在便當盒裡** 🍱  \n",
    "**歡迎來到 Docker 的世界！** 🐳"
   ]
  }
 ],
 "metadata": {
  "kernelspec": {
   "display_name": "Python 3",
   "language": "python",
   "name": "python3"
  },
  "language_info": {
   "codemirror_mode": {
    "name": "ipython",
    "version": 3
   },
   "file_extension": ".py",
   "mimetype": "text/x-python",
   "name": "python",
   "nbconvert_exporter": "python",
   "pygments_lexer": "ipython3",
   "version": "3.8.0"
  }
 },
 "nbformat": 4,
 "nbformat_minor": 4
}